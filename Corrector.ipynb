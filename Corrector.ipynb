{
 "cells": [
  {
   "cell_type": "code",
   "execution_count": 1,
   "id": "5b547375",
   "metadata": {},
   "outputs": [
    {
     "name": "stdout",
     "output_type": "stream",
     "text": [
      "Enter a word (or 'q' to quit): transletor\n",
      "Corrected Word: translator\n",
      "\n",
      "Enter a word (or 'q' to quit): evidant\n",
      "Corrected Word: evident\n",
      "\n",
      "Enter a word (or 'q' to quit): dinamic\n",
      "Corrected Word: dynamic\n",
      "\n",
      "Enter a word (or 'q' to quit): confident\n",
      "Word is already correct!\n",
      "\n",
      "Enter a word (or 'q' to quit): q\n"
     ]
    }
   ],
   "source": [
    "import enchant\n",
    "\n",
    "def auto_correct(input_word):\n",
    "    # Create an enchant dictionary\n",
    "    dictionary = enchant.Dict(\"en_US\")\n",
    "\n",
    "    # Check if the word is already correct\n",
    "    if dictionary.check(input_word):\n",
    "        return input_word\n",
    "\n",
    "    # Find the word with the minimum edit distance\n",
    "    min_distance = float('inf')\n",
    "    closest_word = \"\"\n",
    "    suggestions = dictionary.suggest(input_word)\n",
    "    for suggestion in suggestions:\n",
    "        distance = calculate_edit_distance(input_word, suggestion)\n",
    "        if distance is not None and distance < min_distance:\n",
    "            min_distance = distance\n",
    "            closest_word = suggestion\n",
    "\n",
    "    return closest_word\n",
    "\n",
    "def calculate_edit_distance(word1, word2):\n",
    "    if word1 is None or word2 is None:\n",
    "        return float('inf')\n",
    "\n",
    "    # Initialize a matrix of zeros\n",
    "    matrix = [[0] * (len(word2) + 1) for _ in range(len(word1) + 1)]\n",
    "\n",
    "    # Fill the matrix with edit distances\n",
    "    for i in range(len(word1) + 1):\n",
    "        matrix[i][0] = i\n",
    "    for j in range(len(word2) + 1):\n",
    "        matrix[0][j] = j\n",
    "\n",
    "    for i in range(1, len(word1) + 1):\n",
    "        for j in range(1, len(word2) + 1):\n",
    "            if word1[i - 1] == word2[j - 1]:\n",
    "                matrix[i][j] = matrix[i - 1][j - 1]\n",
    "            else:\n",
    "                substitution_cost = matrix[i - 1][j - 1] + 1\n",
    "                insertion_cost = matrix[i][j - 1] + 1\n",
    "                deletion_cost = matrix[i - 1][j] + 1\n",
    "                matrix[i][j] = min(substitution_cost, insertion_cost, deletion_cost)\n",
    "\n",
    "    return matrix[-1][-1]\n",
    "\n",
    "# Create an enchant dictionary\n",
    "dictionary = enchant.Dict(\"en_US\")\n",
    "\n",
    "while True:\n",
    "    # Prompt the user to enter a word\n",
    "    input_word = input(\"Enter a word (or 'q' to quit): \")\n",
    "\n",
    "    # Check if the user wants to quit\n",
    "    if input_word == 'q':\n",
    "        break\n",
    "\n",
    "    # Check if the word is already correct\n",
    "    if dictionary.check(input_word):\n",
    "        print(\"Word is already correct!\")\n",
    "    else:\n",
    "        # Perform auto-correction\n",
    "        corrected_word = auto_correct(input_word)\n",
    "        print(f\"Corrected Word: {corrected_word}\")\n",
    "\n",
    "    print()  # Print an empty line for readability\n"
   ]
  },
  {
   "cell_type": "code",
   "execution_count": null,
   "id": "4195652d",
   "metadata": {},
   "outputs": [],
   "source": []
  },
  {
   "cell_type": "code",
   "execution_count": null,
   "id": "9de037cc",
   "metadata": {},
   "outputs": [],
   "source": []
  }
 ],
 "metadata": {
  "kernelspec": {
   "display_name": "Python 3 (ipykernel)",
   "language": "python",
   "name": "python3"
  },
  "language_info": {
   "codemirror_mode": {
    "name": "ipython",
    "version": 3
   },
   "file_extension": ".py",
   "mimetype": "text/x-python",
   "name": "python",
   "nbconvert_exporter": "python",
   "pygments_lexer": "ipython3",
   "version": "3.11.4"
  }
 },
 "nbformat": 4,
 "nbformat_minor": 5
}
